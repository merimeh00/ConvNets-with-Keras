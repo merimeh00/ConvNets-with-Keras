{
  "nbformat": 4,
  "nbformat_minor": 0,
  "metadata": {
    "colab": {
      "provenance": [],
      "gpuType": "T4"
    },
    "kernelspec": {
      "name": "python3",
      "display_name": "Python 3"
    },
    "language_info": {
      "name": "python"
    },
    "accelerator": "GPU"
  },
  "cells": [
    {
      "cell_type": "markdown",
      "source": [
        "# VGG Network"
      ],
      "metadata": {
        "id": "DCuQwpDXdnQQ"
      }
    },
    {
      "cell_type": "markdown",
      "source": [
        "### Import needed libraries"
      ],
      "metadata": {
        "id": "58ws8HfUdtLH"
      }
    },
    {
      "cell_type": "code",
      "source": [
        "import tensorflow as tf\n",
        "from tensorflow.keras.models import Model\n",
        "from tensorflow.keras.layers import Input, Conv2D, MaxPooling2D, Flatten, Dense, Dropout, Add, ReLU\n",
        "from tensorflow.keras.optimizers import Adam\n",
        "from tensorflow.keras.utils import to_categorical\n",
        "from tensorflow.keras.constraints import max_norm\n",
        "from tensorflow.keras.datasets import cifar10\n",
        "from tensorflow.keras.optimizers import SGD\n",
        "\n",
        "\n",
        "import numpy as np\n",
        "import matplotlib.pyplot as plt\n",
        "from pathlib import Path"
      ],
      "metadata": {
        "id": "2SN1kjbLdrNf"
      },
      "execution_count": null,
      "outputs": []
    },
    {
      "cell_type": "markdown",
      "source": [
        "### GPU Config"
      ],
      "metadata": {
        "id": "NFcZD5K9eIQ4"
      }
    },
    {
      "cell_type": "code",
      "source": [
        "np.random.seed(7)\n",
        "\n",
        "config = tf.compat.v1.ConfigProto()\n",
        "config.gpu_options.allow_growth = True\n",
        "sess = tf.compat.v1.Session(config=config)\n",
        "tf.compat.v1.keras.backend.set_session(sess)\n",
        "\n",
        "num_classes = None"
      ],
      "metadata": {
        "id": "eeDEVsB0eMFx"
      },
      "execution_count": null,
      "outputs": []
    },
    {
      "cell_type": "markdown",
      "source": [
        "### Define loading CIFAR-10 function"
      ],
      "metadata": {
        "id": "CIESF_FdeSqG"
      }
    },
    {
      "cell_type": "code",
      "source": [
        "def load_data(num_images=None):\n",
        "    global num_classes\n",
        "    # Cargar el conjunto de datos CIFAR-10\n",
        "    (x_train, y_train), (x_test, y_test) = cifar10.load_data()\n",
        "\n",
        "    # Seleccionar un número específico de imágenes si se proporciona num_images\n",
        "    if num_images is not None:\n",
        "        x_train = x_train[:num_images]\n",
        "        y_train = y_train[:num_images]\n",
        "\n",
        "    # Normalizar los valores de píxeles a un rango entre 0 y 1\n",
        "    x_train = x_train.astype('float32') / 255.0\n",
        "    x_test = x_test.astype('float32') / 255.0\n",
        "\n",
        "    # One-hot encode de las etiquetas\n",
        "    y_train = to_categorical(y_train)\n",
        "    y_test = to_categorical(y_test)\n",
        "    num_classes = y_test.shape[1]\n",
        "\n",
        "    return (x_train, y_train), (x_test, y_test)"
      ],
      "metadata": {
        "id": "WRCBahGEeYZS"
      },
      "execution_count": null,
      "outputs": []
    },
    {
      "cell_type": "markdown",
      "source": [
        "### Define training model function"
      ],
      "metadata": {
        "id": "W2DbQa6chMRr"
      }
    },
    {
      "cell_type": "code",
      "source": [
        "from google.colab import files\n",
        "uploaded = files.upload()"
      ],
      "metadata": {
        "colab": {
          "base_uri": "https://localhost:8080/",
          "height": 73
        },
        "id": "kfvB0ZxFSEAD",
        "outputId": "fbf5de91-cb6a-4c60-bf3c-5b9e40686b7f"
      },
      "execution_count": null,
      "outputs": [
        {
          "output_type": "display_data",
          "data": {
            "text/plain": [
              "<IPython.core.display.HTML object>"
            ],
            "text/html": [
              "\n",
              "     <input type=\"file\" id=\"files-48591bb1-31e3-4c1f-abc6-9289c1133f4c\" name=\"files[]\" multiple disabled\n",
              "        style=\"border:none\" />\n",
              "     <output id=\"result-48591bb1-31e3-4c1f-abc6-9289c1133f4c\">\n",
              "      Upload widget is only available when the cell has been executed in the\n",
              "      current browser session. Please rerun this cell to enable.\n",
              "      </output>\n",
              "      <script>// Copyright 2017 Google LLC\n",
              "//\n",
              "// Licensed under the Apache License, Version 2.0 (the \"License\");\n",
              "// you may not use this file except in compliance with the License.\n",
              "// You may obtain a copy of the License at\n",
              "//\n",
              "//      http://www.apache.org/licenses/LICENSE-2.0\n",
              "//\n",
              "// Unless required by applicable law or agreed to in writing, software\n",
              "// distributed under the License is distributed on an \"AS IS\" BASIS,\n",
              "// WITHOUT WARRANTIES OR CONDITIONS OF ANY KIND, either express or implied.\n",
              "// See the License for the specific language governing permissions and\n",
              "// limitations under the License.\n",
              "\n",
              "/**\n",
              " * @fileoverview Helpers for google.colab Python module.\n",
              " */\n",
              "(function(scope) {\n",
              "function span(text, styleAttributes = {}) {\n",
              "  const element = document.createElement('span');\n",
              "  element.textContent = text;\n",
              "  for (const key of Object.keys(styleAttributes)) {\n",
              "    element.style[key] = styleAttributes[key];\n",
              "  }\n",
              "  return element;\n",
              "}\n",
              "\n",
              "// Max number of bytes which will be uploaded at a time.\n",
              "const MAX_PAYLOAD_SIZE = 100 * 1024;\n",
              "\n",
              "function _uploadFiles(inputId, outputId) {\n",
              "  const steps = uploadFilesStep(inputId, outputId);\n",
              "  const outputElement = document.getElementById(outputId);\n",
              "  // Cache steps on the outputElement to make it available for the next call\n",
              "  // to uploadFilesContinue from Python.\n",
              "  outputElement.steps = steps;\n",
              "\n",
              "  return _uploadFilesContinue(outputId);\n",
              "}\n",
              "\n",
              "// This is roughly an async generator (not supported in the browser yet),\n",
              "// where there are multiple asynchronous steps and the Python side is going\n",
              "// to poll for completion of each step.\n",
              "// This uses a Promise to block the python side on completion of each step,\n",
              "// then passes the result of the previous step as the input to the next step.\n",
              "function _uploadFilesContinue(outputId) {\n",
              "  const outputElement = document.getElementById(outputId);\n",
              "  const steps = outputElement.steps;\n",
              "\n",
              "  const next = steps.next(outputElement.lastPromiseValue);\n",
              "  return Promise.resolve(next.value.promise).then((value) => {\n",
              "    // Cache the last promise value to make it available to the next\n",
              "    // step of the generator.\n",
              "    outputElement.lastPromiseValue = value;\n",
              "    return next.value.response;\n",
              "  });\n",
              "}\n",
              "\n",
              "/**\n",
              " * Generator function which is called between each async step of the upload\n",
              " * process.\n",
              " * @param {string} inputId Element ID of the input file picker element.\n",
              " * @param {string} outputId Element ID of the output display.\n",
              " * @return {!Iterable<!Object>} Iterable of next steps.\n",
              " */\n",
              "function* uploadFilesStep(inputId, outputId) {\n",
              "  const inputElement = document.getElementById(inputId);\n",
              "  inputElement.disabled = false;\n",
              "\n",
              "  const outputElement = document.getElementById(outputId);\n",
              "  outputElement.innerHTML = '';\n",
              "\n",
              "  const pickedPromise = new Promise((resolve) => {\n",
              "    inputElement.addEventListener('change', (e) => {\n",
              "      resolve(e.target.files);\n",
              "    });\n",
              "  });\n",
              "\n",
              "  const cancel = document.createElement('button');\n",
              "  inputElement.parentElement.appendChild(cancel);\n",
              "  cancel.textContent = 'Cancel upload';\n",
              "  const cancelPromise = new Promise((resolve) => {\n",
              "    cancel.onclick = () => {\n",
              "      resolve(null);\n",
              "    };\n",
              "  });\n",
              "\n",
              "  // Wait for the user to pick the files.\n",
              "  const files = yield {\n",
              "    promise: Promise.race([pickedPromise, cancelPromise]),\n",
              "    response: {\n",
              "      action: 'starting',\n",
              "    }\n",
              "  };\n",
              "\n",
              "  cancel.remove();\n",
              "\n",
              "  // Disable the input element since further picks are not allowed.\n",
              "  inputElement.disabled = true;\n",
              "\n",
              "  if (!files) {\n",
              "    return {\n",
              "      response: {\n",
              "        action: 'complete',\n",
              "      }\n",
              "    };\n",
              "  }\n",
              "\n",
              "  for (const file of files) {\n",
              "    const li = document.createElement('li');\n",
              "    li.append(span(file.name, {fontWeight: 'bold'}));\n",
              "    li.append(span(\n",
              "        `(${file.type || 'n/a'}) - ${file.size} bytes, ` +\n",
              "        `last modified: ${\n",
              "            file.lastModifiedDate ? file.lastModifiedDate.toLocaleDateString() :\n",
              "                                    'n/a'} - `));\n",
              "    const percent = span('0% done');\n",
              "    li.appendChild(percent);\n",
              "\n",
              "    outputElement.appendChild(li);\n",
              "\n",
              "    const fileDataPromise = new Promise((resolve) => {\n",
              "      const reader = new FileReader();\n",
              "      reader.onload = (e) => {\n",
              "        resolve(e.target.result);\n",
              "      };\n",
              "      reader.readAsArrayBuffer(file);\n",
              "    });\n",
              "    // Wait for the data to be ready.\n",
              "    let fileData = yield {\n",
              "      promise: fileDataPromise,\n",
              "      response: {\n",
              "        action: 'continue',\n",
              "      }\n",
              "    };\n",
              "\n",
              "    // Use a chunked sending to avoid message size limits. See b/62115660.\n",
              "    let position = 0;\n",
              "    do {\n",
              "      const length = Math.min(fileData.byteLength - position, MAX_PAYLOAD_SIZE);\n",
              "      const chunk = new Uint8Array(fileData, position, length);\n",
              "      position += length;\n",
              "\n",
              "      const base64 = btoa(String.fromCharCode.apply(null, chunk));\n",
              "      yield {\n",
              "        response: {\n",
              "          action: 'append',\n",
              "          file: file.name,\n",
              "          data: base64,\n",
              "        },\n",
              "      };\n",
              "\n",
              "      let percentDone = fileData.byteLength === 0 ?\n",
              "          100 :\n",
              "          Math.round((position / fileData.byteLength) * 100);\n",
              "      percent.textContent = `${percentDone}% done`;\n",
              "\n",
              "    } while (position < fileData.byteLength);\n",
              "  }\n",
              "\n",
              "  // All done.\n",
              "  yield {\n",
              "    response: {\n",
              "      action: 'complete',\n",
              "    }\n",
              "  };\n",
              "}\n",
              "\n",
              "scope.google = scope.google || {};\n",
              "scope.google.colab = scope.google.colab || {};\n",
              "scope.google.colab._files = {\n",
              "  _uploadFiles,\n",
              "  _uploadFilesContinue,\n",
              "};\n",
              "})(self);\n",
              "</script> "
            ]
          },
          "metadata": {}
        },
        {
          "output_type": "stream",
          "name": "stdout",
          "text": [
            "Saving weights1.zip to weights1.zip\n"
          ]
        }
      ]
    },
    {
      "cell_type": "code",
      "source": [
        "import zipfile\n",
        "import os\n",
        "zip_file_path = './weights1.zip'\n",
        "\n",
        "# Open the zip file\n",
        "with zipfile.ZipFile(zip_file_path, 'r') as zip_ref:\n",
        "    # Extract all the contents into the same directory\n",
        "    zip_ref.extractall(os.path.dirname(zip_file_path))"
      ],
      "metadata": {
        "id": "Wgx97ybnSFfo"
      },
      "execution_count": null,
      "outputs": []
    },
    {
      "cell_type": "code",
      "source": [
        "ls"
      ],
      "metadata": {
        "colab": {
          "base_uri": "https://localhost:8080/"
        },
        "id": "945t-t4QTdVN",
        "outputId": "9b4d4fcb-edd7-47b5-d67e-2ec15640150d"
      },
      "execution_count": null,
      "outputs": [
        {
          "output_type": "stream",
          "name": "stdout",
          "text": [
            "accuracy_resnet_5000_0.001.png  weights1.zip                    weights_resnet_5000_0.001.h5\n",
            "loss_resnet_5000_0.001.png      weights_resnet_25000_0.0001.h5\n",
            "\u001b[0m\u001b[01;34msample_data\u001b[0m/                    weights_resnet_25000_0.001.h5\n"
          ]
        }
      ]
    },
    {
      "cell_type": "code",
      "source": [
        "weights_path = './weights_resnet_25000_0.0001.h5'\n",
        "weights_file = Path(weights_path)\n",
        "\n",
        "def create_model():\n",
        "    global num_classes\n",
        "    dropout=0.5\n",
        "\n",
        "    input_image = Input(shape=(32,32,3))\n",
        "    x1 = Conv2D(64, (3, 3),padding='same', activation='relu')(input_image)\n",
        "    x1 = Conv2D(64, (3, 3),padding='same', activation='relu')(x1)\n",
        "    x1 = MaxPooling2D((2, 2))(x1)\n",
        "\n",
        "    res = Conv2D(128, (3, 3),padding='same', activation='relu')(x1)\n",
        "    x1 = Conv2D(128, (3, 3),padding='same')(x1)\n",
        "    x1 = Add()([res, x1])\n",
        "    x1 = ReLU()(x1)\n",
        "    x1 = MaxPooling2D((2, 2))(x1)\n",
        "\n",
        "    res = Conv2D(256, (3, 3),padding='same', activation='relu')(x1)\n",
        "    x1 = Conv2D(256, (3, 3),padding='same', activation='relu')(x1)\n",
        "    x1 = Conv2D(256, (1, 1),padding='same', activation='relu')(x1)\n",
        "    x1 = Add()([res, x1])\n",
        "    x1 = ReLU()(x1)\n",
        "    x1 = MaxPooling2D((2, 2))(x1)\n",
        "\n",
        "    res = Conv2D(512, (3, 3),padding='same', activation='relu')(x1)\n",
        "    x1 = Conv2D(512, (3, 3),padding='same', activation='relu')(x1)\n",
        "    x1 = Conv2D(512, (1, 1),padding='same', activation='relu')(x1)\n",
        "    x1 = Add()([res, x1])\n",
        "    x1 = ReLU()(x1)\n",
        "    x1 = MaxPooling2D((2, 2))(x1)\n",
        "\n",
        "    res = Conv2D(512, (3, 3),padding='same', activation='relu')(x1)\n",
        "    x1 = Conv2D(512, (3, 3),padding='same', activation='relu')(x1)\n",
        "    x1 = Conv2D(512, (1, 1),padding='same', activation='relu')(x1)\n",
        "    x1 = Add()([res, x1])\n",
        "    x1 = ReLU()(x1)\n",
        "    x1 = MaxPooling2D((2, 2))(x1)\n",
        "\n",
        "    x1 = Flatten()(x1)\n",
        "\n",
        "    x=Dense(4096, activation='relu', kernel_constraint=max_norm(3))(x1)\n",
        "    x=Dropout(dropout)(x)\n",
        "    x=Dense(4096, activation='relu', kernel_constraint=max_norm(3))(x)\n",
        "    x=Dropout(dropout)(x)\n",
        "\n",
        "    out= Dense(num_classes, activation='softmax')(x)\n",
        "\n",
        "    model = Model(inputs = input_image, outputs = out);\n",
        "\n",
        "    #Load parameters\n",
        "    if weights_file.is_file():\n",
        "      model.load_weights(weights_path)\n",
        "    return model\n",
        "\n",
        "def train_model(x_train, y_train, x_test, y_test, learning_rate, num_img_train):\n",
        "\n",
        "  optimizer = SGD(learning_rate=learning_rate, momentum=0.9, nesterov=False)\n",
        "  model.compile(loss='categorical_crossentropy', optimizer=optimizer, metrics=['accuracy'])\n",
        "\n",
        "  # Entrenar el modelo\n",
        "  history = model.fit(x_train, y_train, validation_data=(x_test, y_test), epochs=20, batch_size=64)\n",
        "\n",
        "  # Mostrar o guardar gráficos, guardar modelos, etc.\n",
        "  plot_and_save_results(history, num_img_train, learning_rate)"
      ],
      "metadata": {
        "id": "UPnGJQcShF4T"
      },
      "execution_count": null,
      "outputs": []
    },
    {
      "cell_type": "markdown",
      "source": [
        "### Define ploting function"
      ],
      "metadata": {
        "id": "CgrhOsbIhe7d"
      }
    },
    {
      "cell_type": "code",
      "source": [
        "def plot_and_save_results(history, num_img_train, learning_rate):\n",
        "    # Accuracy figure\n",
        "    plt.plot(history.history['accuracy'])\n",
        "    plt.plot(history.history['val_accuracy'])\n",
        "    plt.title('Accuracy for '+str(num_img_train)+' images with learning rate '+str(learning_rate))\n",
        "    plt.ylabel('accuracy')\n",
        "    plt.xlabel('epoch')\n",
        "    plt.legend(['train', 'test'], loc='upper left')\n",
        "\n",
        "    accuracy_img_name = \"accuracy_resnet_\"+ str(num_img_train) +\"_\"+ str(learning_rate) +\".png\"\n",
        "    print(accuracy_img_name)\n",
        "    plt.savefig(accuracy_img_name)\n",
        "    # plt.show()\n",
        "    plt.close()\n",
        "\n",
        "\n",
        "    # Loss figure\n",
        "    plt.plot(history.history['loss'])\n",
        "    plt.plot(history.history['val_loss'])\n",
        "    plt.title('Loss for '+str(num_img_train)+' images with learning rate '+str(learning_rate))\n",
        "    plt.ylabel('loss')\n",
        "    plt.xlabel('epoch')\n",
        "    plt.legend(['train', 'test'], loc='upper left')\n",
        "\n",
        "    loss_img_name = 'loss_resnet_'+str(num_img_train)+'_'+str(learning_rate)+'.png'\n",
        "    plt.savefig(loss_img_name)\n",
        "    # plt.show()\n",
        "    plt.close()\n",
        "\n",
        "\n",
        "    # Save weights\n",
        "    weights_path = './weights_resnet_'+str(num_img_train) +\"_\"+ str(learning_rate) +'.h5'\n",
        "    weights_file = Path(weights_path)\n",
        "    model.save_weights(weights_path)"
      ],
      "metadata": {
        "id": "oT9g6juZhiuw"
      },
      "execution_count": null,
      "outputs": []
    },
    {
      "cell_type": "markdown",
      "source": [
        "### Fit the model"
      ],
      "metadata": {
        "id": "i8B9rWVkpBkf"
      }
    },
    {
      "cell_type": "code",
      "source": [
        "num_images_list = 25000\n",
        "learning_rates = 0.0001\n",
        "\n",
        "(x_train, y_train), (x_test, y_test) = load_data(num_images_list)\n",
        "print(f\"Training with {num_images_list} images and learning rate {learning_rates}\")\n",
        "model = create_model()\n",
        "train_model(x_train, y_train, x_test, y_test, learning_rates, num_images_list)"
      ],
      "metadata": {
        "colab": {
          "base_uri": "https://localhost:8080/"
        },
        "id": "ZRRV0O-GpB8G",
        "outputId": "76ef1a1a-c3d0-474f-f0d3-04e66bb705f3"
      },
      "execution_count": null,
      "outputs": [
        {
          "output_type": "stream",
          "name": "stdout",
          "text": [
            "Training with 25000 images and learning rate 0.0001\n",
            "Epoch 1/20\n",
            "391/391 [==============================] - 17s 36ms/step - loss: 2.1454 - accuracy: 0.2063 - val_loss: 2.1059 - val_accuracy: 0.2505\n",
            "Epoch 2/20\n",
            "391/391 [==============================] - 14s 35ms/step - loss: 2.1132 - accuracy: 0.2200 - val_loss: 2.0659 - val_accuracy: 0.2658\n",
            "Epoch 3/20\n",
            "391/391 [==============================] - 14s 36ms/step - loss: 2.0803 - accuracy: 0.2288 - val_loss: 2.0323 - val_accuracy: 0.2703\n",
            "Epoch 4/20\n",
            "391/391 [==============================] - 14s 36ms/step - loss: 2.0579 - accuracy: 0.2294 - val_loss: 2.0114 - val_accuracy: 0.2721\n",
            "Epoch 5/20\n",
            "391/391 [==============================] - 14s 35ms/step - loss: 2.0394 - accuracy: 0.2389 - val_loss: 1.9951 - val_accuracy: 0.2763\n",
            "Epoch 6/20\n",
            "391/391 [==============================] - 14s 35ms/step - loss: 2.0226 - accuracy: 0.2438 - val_loss: 1.9834 - val_accuracy: 0.2752\n",
            "Epoch 7/20\n",
            "391/391 [==============================] - 14s 35ms/step - loss: 2.0108 - accuracy: 0.2475 - val_loss: 1.9690 - val_accuracy: 0.2814\n",
            "Epoch 8/20\n",
            "391/391 [==============================] - 14s 35ms/step - loss: 1.9959 - accuracy: 0.2552 - val_loss: 1.9564 - val_accuracy: 0.2789\n",
            "Epoch 9/20\n",
            "391/391 [==============================] - 15s 39ms/step - loss: 1.9869 - accuracy: 0.2576 - val_loss: 1.9476 - val_accuracy: 0.2845\n",
            "Epoch 10/20\n",
            "391/391 [==============================] - 14s 36ms/step - loss: 1.9752 - accuracy: 0.2626 - val_loss: 1.9361 - val_accuracy: 0.2909\n",
            "Epoch 11/20\n",
            "391/391 [==============================] - 14s 35ms/step - loss: 1.9625 - accuracy: 0.2700 - val_loss: 1.9204 - val_accuracy: 0.2971\n",
            "Epoch 12/20\n",
            "391/391 [==============================] - 14s 36ms/step - loss: 1.9494 - accuracy: 0.2738 - val_loss: 1.9067 - val_accuracy: 0.3009\n",
            "Epoch 13/20\n",
            "391/391 [==============================] - 14s 35ms/step - loss: 1.9363 - accuracy: 0.2805 - val_loss: 1.8926 - val_accuracy: 0.3045\n",
            "Epoch 14/20\n",
            "391/391 [==============================] - 14s 35ms/step - loss: 1.9217 - accuracy: 0.2840 - val_loss: 1.8752 - val_accuracy: 0.3089\n",
            "Epoch 15/20\n",
            "391/391 [==============================] - 14s 35ms/step - loss: 1.9069 - accuracy: 0.2902 - val_loss: 1.8794 - val_accuracy: 0.3111\n",
            "Epoch 16/20\n",
            "391/391 [==============================] - 14s 35ms/step - loss: 1.8861 - accuracy: 0.3001 - val_loss: 1.8340 - val_accuracy: 0.3220\n",
            "Epoch 17/20\n",
            "391/391 [==============================] - 14s 35ms/step - loss: 1.8643 - accuracy: 0.3070 - val_loss: 1.8056 - val_accuracy: 0.3289\n",
            "Epoch 18/20\n",
            "391/391 [==============================] - 14s 35ms/step - loss: 1.8468 - accuracy: 0.3090 - val_loss: 1.7802 - val_accuracy: 0.3368\n",
            "Epoch 19/20\n",
            "391/391 [==============================] - 14s 35ms/step - loss: 1.8191 - accuracy: 0.3183 - val_loss: 1.7618 - val_accuracy: 0.3397\n",
            "Epoch 20/20\n",
            "391/391 [==============================] - 15s 39ms/step - loss: 1.7974 - accuracy: 0.3278 - val_loss: 1.7836 - val_accuracy: 0.3469\n",
            "accuracy_resnet_25000_0.0001.png\n"
          ]
        }
      ]
    },
    {
      "cell_type": "code",
      "source": [
        "!zip -r /content/results_resnet.zip /content/"
      ],
      "metadata": {
        "colab": {
          "base_uri": "https://localhost:8080/"
        },
        "id": "FY3NAjI5LUv3",
        "outputId": "59a950d7-2ecb-4212-cc1d-f035ae61afad"
      },
      "execution_count": null,
      "outputs": [
        {
          "output_type": "stream",
          "name": "stdout",
          "text": [
            "  adding: content/ (stored 0%)\n",
            "  adding: content/.config/ (stored 0%)\n",
            "  adding: content/.config/default_configs.db (deflated 98%)\n",
            "  adding: content/.config/.last_survey_prompt.yaml (stored 0%)\n",
            "  adding: content/.config/.last_update_check.json (deflated 22%)\n",
            "  adding: content/.config/logs/ (stored 0%)\n",
            "  adding: content/.config/logs/2023.12.19/ (stored 0%)\n",
            "  adding: content/.config/logs/2023.12.19/14.20.16.265569.log (deflated 86%)\n",
            "  adding: content/.config/logs/2023.12.19/14.20.35.154355.log (deflated 57%)\n",
            "  adding: content/.config/logs/2023.12.19/14.19.39.750127.log (deflated 91%)\n",
            "  adding: content/.config/logs/2023.12.19/14.20.35.996145.log (deflated 56%)\n",
            "  adding: content/.config/logs/2023.12.19/14.20.25.266295.log (deflated 58%)\n",
            "  adding: content/.config/logs/2023.12.19/14.20.06.327238.log (deflated 58%)\n",
            "  adding: content/.config/gce (stored 0%)\n",
            "  adding: content/.config/.last_opt_in_prompt.yaml (stored 0%)\n",
            "  adding: content/.config/configurations/ (stored 0%)\n",
            "  adding: content/.config/configurations/config_default (deflated 15%)\n",
            "  adding: content/.config/active_config (stored 0%)\n",
            "  adding: content/.config/config_sentinel (stored 0%)\n",
            "  adding: content/accuracy_resnet_25000_0.01.png (deflated 8%)\n",
            "  adding: content/loss_resnet_25000_0.01.png (deflated 8%)\n",
            "  adding: content/weights_resnet_5000_0.0001.h5 (deflated 9%)\n",
            "  adding: content/weights_resnet_25000_0.001.h5 (deflated 9%)\n",
            "  adding: content/weights_resnet_25000_0.0001.h5 (deflated 9%)\n",
            "  adding: content/accuracy_resnet_5000_0.01.png (deflated 6%)\n",
            "  adding: content/accuracy_resnet_25000_0.0001.png (deflated 8%)\n",
            "  adding: content/weights_resnet_5000_0.01.h5 (deflated 9%)\n",
            "  adding: content/accuracy_resnet_5000_0.0001.png (deflated 5%)\n",
            "  adding: content/weights_resnet_25000_0.01.h5 (deflated 8%)\n",
            "  adding: content/loss_resnet_5000_0.01.png (deflated 6%)\n",
            "  adding: content/loss_resnet_5000_0.001.png (deflated 7%)\n",
            "  adding: content/accuracy_resnet_5000_0.001.png (deflated 6%)\n",
            "  adding: content/weights_resnet_5000_0.001.h5 (deflated 9%)\n",
            "  adding: content/loss_resnet_5000_0.0001.png (deflated 7%)\n",
            "  adding: content/loss_resnet_25000_0.0001.png (deflated 8%)\n",
            "  adding: content/loss_resnet_25000_0.001.png (deflated 7%)\n",
            "  adding: content/accuracy_resnet_25000_0.001.png (deflated 7%)\n",
            "  adding: content/sample_data/ (stored 0%)\n",
            "  adding: content/sample_data/anscombe.json (deflated 83%)\n",
            "  adding: content/sample_data/README.md (deflated 42%)\n",
            "  adding: content/sample_data/california_housing_test.csv (deflated 76%)\n",
            "  adding: content/sample_data/california_housing_train.csv (deflated 79%)\n",
            "  adding: content/sample_data/mnist_test.csv (deflated 88%)\n",
            "  adding: content/sample_data/mnist_train_small.csv (deflated 88%)\n"
          ]
        }
      ]
    }
  ]
}